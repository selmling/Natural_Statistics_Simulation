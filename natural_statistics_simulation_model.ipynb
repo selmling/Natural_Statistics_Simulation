{
 "cells": [
  {
   "cell_type": "markdown",
   "metadata": {},
   "source": [
    "# Type-token ratio curves of parents' speech in response to infants babbling\n",
    "\n",
    "##### Authors:  Steven L. Elmlinger (sle64@cornell.edu) based on code graciously provided by Anonymous Reviewer 3.\n",
    "\n",
    "The simulations based on the framework below can be found in our ICDL paper *Babbling Elicits Simplified Caregiver Speech: Findings from Natural Interaction and Simulation*.\n",
    "\n",
    "---------------\n",
    "## Summary\n",
    "In this simulation, we will build theoretical corpora of words with different sizes and test the effects of their size on the type-token ratio (log) curves they produce. \n",
    "\n",
    "### 1. load packages"
   ]
  },
  {
   "cell_type": "code",
   "execution_count": 19,
   "metadata": {},
   "outputs": [],
   "source": [
    "import math\n",
    "import pandas as pd\n",
    "%matplotlib inline"
   ]
  },
  {
   "cell_type": "markdown",
   "metadata": {},
   "source": [
    "### 2. set variables for the model\n",
    "\n",
    "Variables:\n",
    "\n",
    "- log (inverse of exponent... default is base 10)\n",
    "\n",
    "- assuming that the number of unique words Y for total words X follows this function:\n",
    "\n",
    "`Y = k log(X)`\n",
    "\n",
    "`k` should be different for contingent and non-contingent\n",
    "\n",
    "`k` is essentially how far in the vertical direction the curve jumps"
   ]
  },
  {
   "cell_type": "code",
   "execution_count": 20,
   "metadata": {},
   "outputs": [
    {
     "name": "stdout",
     "output_type": "stream",
     "text": [
      "62.450292941864376\n",
      "74.94035153023725\n"
     ]
    }
   ],
   "source": [
    "k_contingency = 500/math.log(3000)\n",
    "\n",
    "print(k_contingency)\n",
    "\n",
    "k_nonContingency = 600/math.log(3000)\n",
    "\n",
    "print(k_nonContingency)\n",
    "\n",
    "k_control = 70\n"
   ]
  },
  {
   "cell_type": "markdown",
   "metadata": {},
   "source": [
    "So when Y (number of unique words) differs across contingent and non-contingent, so too does K.\n",
    "\n",
    "### 3. run experiments\n",
    "\n",
    "k_contingency, k_nonContingency and k_control are the same"
   ]
  },
  {
   "cell_type": "code",
   "execution_count": 21,
   "metadata": {},
   "outputs": [],
   "source": [
    "k_contingency = k_nonContingency = k_control = 60\n",
    "\n",
    "# How does Y (number of unique words) change as we increase X"
   ]
  },
  {
   "cell_type": "code",
   "execution_count": 22,
   "metadata": {},
   "outputs": [
    {
     "name": "stdout",
     "output_type": "stream",
     "text": [
      "521.9708848926115\n"
     ]
    }
   ],
   "source": [
    "numContingency = k_contingency * math.log(6000)\n",
    "\n",
    "print(numContingency)"
   ]
  },
  {
   "cell_type": "code",
   "execution_count": 23,
   "metadata": {},
   "outputs": [
    {
     "name": "stdout",
     "output_type": "stream",
     "text": [
      "594.2092531521677\n"
     ]
    }
   ],
   "source": [
    "numNonContingency = k_nonContingency * math.log(20000)\n",
    "\n",
    "print(numNonContingency)"
   ]
  },
  {
   "cell_type": "code",
   "execution_count": 24,
   "metadata": {},
   "outputs": [
    {
     "name": "stdout",
     "output_type": "stream",
     "text": [
      "609.9511090202171\n"
     ]
    }
   ],
   "source": [
    "numControl = k_control * math.log(26000)\n",
    "\n",
    "print(numControl)"
   ]
  },
  {
   "cell_type": "code",
   "execution_count": 25,
   "metadata": {},
   "outputs": [],
   "source": [
    "def expectedUniqueN(n, k):\n",
    "    \n",
    "    return n * ( 1- pow((n-1)*1.0/n,k))"
   ]
  },
  {
   "cell_type": "code",
   "execution_count": 26,
   "metadata": {},
   "outputs": [
    {
     "data": {
      "text/plain": [
       "<matplotlib.axes._subplots.AxesSubplot at 0x11baac1d0>"
      ]
     },
     "execution_count": 26,
     "metadata": {},
     "output_type": "execute_result"
    },
    {
     "data": {
      "image/png": "[encoded data removed]",
      "text/plain": [
       "<Figure size 432x288 with 1 Axes>"
      ]
     },
     "metadata": {
      "needs_background": "light"
     },
     "output_type": "display_data"
    }
   ],
   "source": [
    "EX_contingency = [expectedUniqueN(numContingency, i) for i in range(100,3000,100)]\n",
    "\n",
    "EX_noncontingency = [expectedUniqueN(numNonContingency, i) for i in range(100,3000,100)]\n",
    "\n",
    "df = pd.DataFrame(data={'contingency': EX_contingency,\n",
    "                        \n",
    "                        'noncontingency': EX_noncontingency},\n",
    "                  \n",
    "                        index=range(100,3000,100))\n",
    "\n",
    "df.plot()"
   ]
  },
  {
   "cell_type": "markdown",
   "metadata": {},
   "source": [
    "The above plot is what we would expect if the K values are the same and the only differences are sample size."
   ]
  },
  {
   "cell_type": "markdown",
   "metadata": {},
   "source": [
    "Now let's build a control dataset.\n",
    "\n",
    "The control has a 762 words out of a 26k corpus."
   ]
  },
  {
   "cell_type": "code",
   "execution_count": 1,
   "metadata": {},
   "outputs": [
    {
     "ename": "NameError",
     "evalue": "name 'expectedUniqueN' is not defined",
     "output_type": "error",
     "traceback": [
      "\u001b[0;31m-----------------------------------------------------------------\u001b[0m",
      "\u001b[0;31mNameError\u001b[0m                       Traceback (most recent call last)",
      "\u001b[0;32m<ipython-input-1-4c5a4c6b3e09>\u001b[0m in \u001b[0;36m<module>\u001b[0;34m\u001b[0m\n\u001b[1;32m      1\u001b[0m \u001b[0;31m# if we sample 6000 words from this list it will contain\u001b[0m\u001b[0;34m\u001b[0m\u001b[0;34m\u001b[0m\u001b[0;34m\u001b[0m\u001b[0m\n\u001b[0;32m----> 2\u001b[0;31m \u001b[0mnumContingencyControl\u001b[0m \u001b[0;34m=\u001b[0m \u001b[0mexpectedUniqueN\u001b[0m\u001b[0;34m(\u001b[0m\u001b[0mnumControl\u001b[0m\u001b[0;34m,\u001b[0m \u001b[0;36m6000\u001b[0m\u001b[0;34m)\u001b[0m\u001b[0;34m\u001b[0m\u001b[0;34m\u001b[0m\u001b[0m\n\u001b[0m\u001b[1;32m      3\u001b[0m \u001b[0mprint\u001b[0m\u001b[0;34m(\u001b[0m\u001b[0mnumContingencyControl\u001b[0m\u001b[0;34m)\u001b[0m\u001b[0;34m\u001b[0m\u001b[0;34m\u001b[0m\u001b[0m\n\u001b[1;32m      4\u001b[0m \u001b[0;34m\u001b[0m\u001b[0m\n\u001b[1;32m      5\u001b[0m \u001b[0;31m# if we sample 20000 words from this list it will contain\u001b[0m\u001b[0;34m\u001b[0m\u001b[0;34m\u001b[0m\u001b[0;34m\u001b[0m\u001b[0m\n",
      "\u001b[0;31mNameError\u001b[0m: name 'expectedUniqueN' is not defined"
     ]
    }
   ],
   "source": [
    "# if we sample 6000 words from this list it will contain\n",
    "\n",
    "numContingencyControl = expectedUniqueN(numControl, 6000)\n",
    "\n",
    "print(numContingencyControl)\n",
    "\n",
    "# if we sample 20000 words from this list it will contain\n",
    "\n",
    "numNonContingencyControl = expectedUniqueN(numControl, 20000)\n",
    "\n",
    "print(numNonContingencyControl)"
   ]
  },
  {
   "cell_type": "markdown",
   "metadata": {},
   "source": [
    "These are the same because they have the same K.\n",
    "\n",
    "The intuition for this is that because they both sample from a single original corpus, no differences in number of samples will produce a difference in number of expected unique entries.\n",
    "\n",
    "*Experiment 2*"
   ]
  },
  {
   "cell_type": "code",
   "execution_count": 28,
   "metadata": {},
   "outputs": [
    {
     "data": {
      "text/plain": [
       "<matplotlib.axes._subplots.AxesSubplot at 0x11bb5b860>"
      ]
     },
     "execution_count": 28,
     "metadata": {},
     "output_type": "execute_result"
    },
    {
     "data": {
      "image/png": "[encoded data removed]",
      "text/plain": [
       "<Figure size 432x288 with 1 Axes>"
      ]
     },
     "metadata": {
      "needs_background": "light"
     },
     "output_type": "display_data"
    }
   ],
   "source": [
    "EX_contingency_control = [expectedUniqueN(numContingencyControl, i) for i in range(100,3000,100)]\n",
    "\n",
    "EX_noncontingency_control = [expectedUniqueN(numContingencyControl, i) for i in range(100,3000,100)]\n",
    "\n",
    "df_control = pd.DataFrame(data={'contingency control': EX_contingency_control,\n",
    "                                \n",
    "                                'noncontingency control': EX_noncontingency_control},\n",
    "                          \n",
    "                                index=range(100,3000,100))\n",
    "\n",
    "df_control.plot()"
   ]
  },
  {
   "cell_type": "markdown",
   "metadata": {},
   "source": [
    "Finally, lets check the magnitude of difference between the two experiments. The differences we observe here can be interpreted as the magnitude of difference we would observe due to the differences in words, after controlling for the effects due to sample size differences.\n",
    "\n",
    "*Experiment 3*"
   ]
  },
  {
   "cell_type": "code",
   "execution_count": 31,
   "metadata": {},
   "outputs": [
    {
     "data": {
      "text/plain": [
       "<matplotlib.axes._subplots.AxesSubplot at 0x11bc3e208>"
      ]
     },
     "execution_count": 31,
     "metadata": {},
     "output_type": "execute_result"
    },
    {
     "data": {
      "image/png": "[encoded data removed]",
      "text/plain": [
       "<Figure size 432x288 with 1 Axes>"
      ]
     },
     "metadata": {
      "needs_background": "light"
     },
     "output_type": "display_data"
    }
   ],
   "source": [
    "EX_contingency_diff = [expectedUniqueN(numContingency, i) - expectedUniqueN(numControl, i)  for i in range(100,3000,100)]\n",
    "\n",
    "EX_noncontingency_diff = [expectedUniqueN(numNonContingency, i) - expectedUniqueN(numControl, i)  for i in range(100,3000,100)]\n",
    "\n",
    "df_control_diff = pd.DataFrame(data={'contingency diff': EX_contingency_diff,\n",
    "                                     \n",
    "                                     'noncontingency diff': EX_noncontingency_diff},\n",
    "                               \n",
    "                                     index=range(100,3000,100))\n",
    "\n",
    "df_control_diff.plot()"
   ]
  }
 ],
 "metadata": {
  "kernelspec": {
   "display_name": "Python 3",
   "language": "python",
   "name": "python3"
  },
  "language_info": {
   "codemirror_mode": {
    "name": "ipython",
    "version": 3
   },
   "file_extension": ".py",
   "mimetype": "text/x-python",
   "name": "python",
   "nbconvert_exporter": "python",
   "pygments_lexer": "ipython3",
   "version": "3.7.4"
  }
 },
 "nbformat": 4,
 "nbformat_minor": 4
}
